{
  "nbformat": 4,
  "nbformat_minor": 0,
  "metadata": {
    "colab": {
      "name": "vectorization_vs_for_loop",
      "provenance": [],
      "authorship_tag": "ABX9TyOKDZi4+kTvegiMk6sOFGN/",
      "include_colab_link": true
    },
    "kernelspec": {
      "name": "python3",
      "display_name": "Python 3"
    }
  },
  "cells": [
    {
      "cell_type": "markdown",
      "metadata": {
        "id": "view-in-github",
        "colab_type": "text"
      },
      "source": [
        "<a href=\"https://colab.research.google.com/github/pysaurav/neuralnets-and-deeplearning/blob/master/vectorization_vs_for_loop.ipynb\" target=\"_parent\"><img src=\"https://colab.research.google.com/assets/colab-badge.svg\" alt=\"Open In Colab\"/></a>"
      ]
    },
    {
      "cell_type": "markdown",
      "metadata": {
        "id": "f7K2Ul9VBGsy",
        "colab_type": "text"
      },
      "source": [
        "# Comparing the computation speed of For loop and vectorization"
      ]
    },
    {
      "cell_type": "code",
      "metadata": {
        "id": "t21fy60B91WI",
        "colab_type": "code",
        "colab": {
          "base_uri": "https://localhost:8080/",
          "height": 51
        },
        "outputId": "ec806f12-d12d-4ca8-82e9-832fa8c1f461"
      },
      "source": [
        "import numpy as np\n",
        "import time\n",
        "\n",
        "a=np.random.rand(1000000)\n",
        "b=np.random.rand(1000000)\n",
        "\n",
        "start=time.time()\n",
        "c=np.dot(a,b)\n",
        "finish_v = (time.time()-start)*1000\n",
        "print(\"The value of c is \",c)\n",
        "print(\"Vectorized version time \"+ str(finish_v)+ \"ms\")"
      ],
      "execution_count": 25,
      "outputs": [
        {
          "output_type": "stream",
          "text": [
            "The value of c is  249748.37131360796\n",
            "Vectorized version time 1.4102458953857422ms\n"
          ],
          "name": "stdout"
        }
      ]
    },
    {
      "cell_type": "code",
      "metadata": {
        "id": "PKT5l6ft-iKu",
        "colab_type": "code",
        "colab": {
          "base_uri": "https://localhost:8080/",
          "height": 51
        },
        "outputId": "4b679cde-56df-4e8b-d6c8-dd66b8147439"
      },
      "source": [
        "c=0\n",
        "start_for = time.time()\n",
        "for i in range(1000000):\n",
        "  c+=a[i]*b[i]\n",
        "finish_f = (time.time()-start_for)*1000\n",
        "print(\"The value of c is\",c)\n",
        "print(\"For loop \"+str(finish_f)+\"ms\")"
      ],
      "execution_count": 26,
      "outputs": [
        {
          "output_type": "stream",
          "text": [
            "The value of c is 249748.37131361113\n",
            "For loop 567.2264099121094ms\n"
          ],
          "name": "stdout"
        }
      ]
    },
    {
      "cell_type": "code",
      "metadata": {
        "id": "SGA3Sss9_RwP",
        "colab_type": "code",
        "colab": {
          "base_uri": "https://localhost:8080/",
          "height": 34
        },
        "outputId": "984c47f9-3a59-4829-b659-840ce80505f7"
      },
      "source": [
        "print(\"The vectorized computation is \"+str(int(finish_f/finish_v))+\" times faster.\")"
      ],
      "execution_count": 27,
      "outputs": [
        {
          "output_type": "stream",
          "text": [
            "The vectorized computation is 402 times faster.\n"
          ],
          "name": "stdout"
        }
      ]
    },
    {
      "cell_type": "code",
      "metadata": {
        "id": "aIEUAAFSAKNZ",
        "colab_type": "code",
        "colab": {}
      },
      "source": [
        ""
      ],
      "execution_count": 27,
      "outputs": []
    },
    {
      "cell_type": "code",
      "metadata": {
        "id": "mbJUPqFUAZ9Q",
        "colab_type": "code",
        "colab": {}
      },
      "source": [
        ""
      ],
      "execution_count": 27,
      "outputs": []
    }
  ]
}